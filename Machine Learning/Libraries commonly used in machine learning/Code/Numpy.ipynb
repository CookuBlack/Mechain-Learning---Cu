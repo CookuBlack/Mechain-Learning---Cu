{
 "cells": [
  {
   "cell_type": "markdown",
   "id": "1f7cb284-03e7-44ba-8d63-2cc7fb6f8034",
   "metadata": {},
   "source": [
    "# Numpy"
   ]
  },
  {
   "cell_type": "markdown",
   "id": "fde4b58c-7f99-49c7-8661-a59c090d3ca0",
   "metadata": {},
   "source": [
    "## 导入Numpy库"
   ]
  },
  {
   "cell_type": "code",
   "execution_count": 2,
   "id": "3c843a73-3386-482b-8d00-cc92a47161f7",
   "metadata": {},
   "outputs": [],
   "source": [
    "import numpy as np"
   ]
  },
  {
   "cell_type": "markdown",
   "id": "4957f9e1-e0b0-40d3-88d1-e36a24ddfb9c",
   "metadata": {},
   "source": [
    "## N维数组"
   ]
  },
  {
   "cell_type": "markdown",
   "id": "a48dbd9a-174e-4967-848d-74ca0376d387",
   "metadata": {},
   "source": [
    "### 创建一个数组"
   ]
  },
  {
   "cell_type": "code",
   "execution_count": 3,
   "id": "070d62e9-67da-4519-99da-c3bd62b78320",
   "metadata": {},
   "outputs": [
    {
     "name": "stdout",
     "output_type": "stream",
     "text": [
      "array_1 :\n",
      " [1 2 3]\n",
      "array_2 :\n",
      " [[6 2]\n",
      " [2 3]\n",
      " [8 5]]\n"
     ]
    }
   ],
   "source": [
    "array_1 = np.array([1, 2, 3])\n",
    "print('array_1 :\\n', array_1)\n",
    "array_2 = np.array([[6, 2], [2, 3], [8, 5]])\n",
    "print('array_2 :\\n', array_2)"
   ]
  },
  {
   "cell_type": "code",
   "execution_count": 17,
   "id": "ba5163f1-aee4-4759-846b-2c531a9858fa",
   "metadata": {},
   "outputs": [
    {
     "name": "stdout",
     "output_type": "stream",
     "text": [
      "tarray_1： [[1 2 3]]\n",
      "tarray_2： [1.+0.j 3.+0.j 4.+0.j]\n"
     ]
    }
   ],
   "source": [
    "# 指定tarray_1的最小维度\n",
    "tarray_1 = np.array([1, 2, 3], ndmin = 2)\n",
    "print('tarray_1：', tarray_1)\n",
    "# 指定tarray_2的类型为复数类型\n",
    "tarray_2 = np.array([1, 3, 4], dtype=complex)\n",
    "print('tarray_2：', tarray_2)"
   ]
  },
  {
   "cell_type": "markdown",
   "id": "4ff8f0d4-4280-43a0-b4ba-18eb284bbe52",
   "metadata": {},
   "source": [
    "## 创建指定元素的数组"
   ]
  },
  {
   "cell_type": "code",
   "execution_count": 19,
   "id": "cd268a5a-1159-401b-97eb-5f88595df121",
   "metadata": {},
   "outputs": [
    {
     "name": "stdout",
     "output_type": "stream",
     "text": [
      "earray_1: [[1. 1. 1. 1. 1. 1. 1. 1.]\n",
      " [1. 1. 1. 1. 1. 1. 1. 1.]\n",
      " [1. 1. 1. 1. 1. 1. 1. 1.]\n",
      " [1. 1. 1. 1. 1. 1. 1. 1.]\n",
      " [1. 1. 1. 1. 1. 1. 1. 1.]]\n",
      "zarray_1: [[0. 0. 0. 0. 0. 0. 0. 0.]\n",
      " [0. 0. 0. 0. 0. 0. 0. 0.]\n",
      " [0. 0. 0. 0. 0. 0. 0. 0.]\n",
      " [0. 0. 0. 0. 0. 0. 0. 0.]\n",
      " [0. 0. 0. 0. 0. 0. 0. 0.]]\n",
      "oarray_1: [[1. 1. 1. 1. 1. 1. 1. 1.]\n",
      " [1. 1. 1. 1. 1. 1. 1. 1.]\n",
      " [1. 1. 1. 1. 1. 1. 1. 1.]\n",
      " [1. 1. 1. 1. 1. 1. 1. 1.]\n",
      " [1. 1. 1. 1. 1. 1. 1. 1.]]\n"
     ]
    }
   ],
   "source": [
    "earray_1 = np.empty([5, 8])    # 创建元素为空的数组\n",
    "print('earray_1:', earray_1)\n",
    "zarray_1 = np.zeros([5, 8])   # 创建元素为0的数组\n",
    "print('zarray_1:',zarray_1)\n",
    "oarray_1 = np.ones([5, 8])   # 创建元素为1的数组\n",
    "print('oarray_1:', oarray_1)"
   ]
  },
  {
   "cell_type": "code",
   "execution_count": 21,
   "id": "624ab7ea-eef1-41f1-a4e6-ef216d135ec0",
   "metadata": {},
   "outputs": [
    {
     "name": "stdout",
     "output_type": "stream",
     "text": [
      "cpzarray_1 [0 0 0]\n",
      "cpoarray_1 [[1 1]\n",
      " [1 1]\n",
      " [1 1]]\n"
     ]
    }
   ],
   "source": [
    "cpzarray_1 = np.zeros_like(array_1)   # 创建与array_1大小相同且元素为0的数组\n",
    "print(\"cpzarray_1\", cpzarray_1)\n",
    "cpoarray_1 = np.ones_like(array_2)   # 创建与array_2大小相同且元素为1的数组\n",
    "print('cpoarray_1', cpoarray_1)"
   ]
  },
  {
   "cell_type": "markdown",
   "id": "e3b895f7-9dee-416b-8300-aebb8f58d8ae",
   "metadata": {},
   "source": [
    "### N维度数组的属性"
   ]
  },
  {
   "cell_type": "code",
   "execution_count": 14,
   "id": "4eebd044-7d70-4dfb-bd7a-04f4ad3626f0",
   "metadata": {},
   "outputs": [
    {
     "name": "stdout",
     "output_type": "stream",
     "text": [
      "shape : (2, 2)\n",
      "dtype : int32\n",
      "size : 4\n"
     ]
    }
   ],
   "source": [
    "array_3 = np.array([[1, 2], [2, 3]])\n",
    "print(\"shape :\", array_3.shape)  # 查看维度\n",
    "print(\"dtype :\", array_3.dtype)  # 查看数据类型\n",
    "print(\"size :\", array_3.size)   # 查看元素个数"
   ]
  },
  {
   "cell_type": "code",
   "execution_count": 16,
   "id": "b7a87150-f7d8-4085-b062-bdcbf42abf9f",
   "metadata": {},
   "outputs": [
    {
     "name": "stdout",
     "output_type": "stream",
     "text": [
      "array_3: [1 2 2 3]\n",
      "array_3: [[1 2]\n",
      " [2 3]]\n",
      "array_3: (4,)\n",
      "array_3: [1 2 2 3]\n"
     ]
    }
   ],
   "source": [
    "print(\"array_3:\", array_3.reshape(4, ))   # 原数组不发生改变\n",
    "print(\"array_3:\", array_3)\n",
    "array_3.shape = (4)     # 原数组发生改变\n",
    "print(\"array_3:\", array_3)"
   ]
  },
  {
   "cell_type": "markdown",
   "id": "feb69f9b-0381-4684-be53-543318cc13a2",
   "metadata": {},
   "source": [
    "### 索引与切片"
   ]
  },
  {
   "cell_type": "code",
   "execution_count": 22,
   "id": "1c3fe692-50c9-4449-8403-fb187b9b38f4",
   "metadata": {},
   "outputs": [
    {
     "name": "stdout",
     "output_type": "stream",
     "text": [
      "array_4[0, 0] : 1\n",
      "array_4[0, :] : [1 2]\n",
      "array_4[:, 0] : [1 3]\n"
     ]
    }
   ],
   "source": [
    "array_4 = np.array([[1, 2], [3, 4]])\n",
    "print('array_4[0, 0] :', array_4[0, 0])  # 第0行第0列的元素\n",
    "print('array_4[0, :] :', array_4[0, :])  # 第0行的所有元素\n",
    "print('array_4[:, 0] :', array_4[:, 0])  # 第0列的所有元素"
   ]
  },
  {
   "cell_type": "markdown",
   "id": "c26f3dae-996b-4e45-bda4-8a1138c35531",
   "metadata": {},
   "source": [
    "### 简单的数学运算"
   ]
  },
  {
   "cell_type": "code",
   "execution_count": 21,
   "id": "e067699c-3a6c-4f93-b81a-3b71d5ab0b22",
   "metadata": {},
   "outputs": [
    {
     "name": "stdout",
     "output_type": "stream",
     "text": [
      "array_5 + array_6 : [5 7 9]\n",
      "array_5 * array_6 : [ 4 10 18]\n"
     ]
    }
   ],
   "source": [
    "array_5 = np.array([1, 2, 3])\n",
    "array_6 = np.array([4, 5, 6])\n",
    "print('array_5 + array_6 :', array_5 + array_6)   # 对应元素相加\n",
    "print('array_5 * array_6 :', array_5 * array_6)   # 对应元素相乘"
   ]
  },
  {
   "cell_type": "markdown",
   "id": "ac3dbe91-54fd-4e5d-879e-e3f692794aac",
   "metadata": {},
   "source": [
    "### 数组的广播"
   ]
  },
  {
   "cell_type": "code",
   "execution_count": 26,
   "id": "8e491ae6-cbb5-49e2-9938-8238e3fe35cc",
   "metadata": {},
   "outputs": [
    {
     "name": "stdout",
     "output_type": "stream",
     "text": [
      "array_7 + array_8 :\n",
      " [[2 4]\n",
      " [4 6]]\n"
     ]
    }
   ],
   "source": [
    "array_7 = np.array([[1, 2], [3, 4]])\n",
    "array_8 = np.array([1, 2])\n",
    "print('array_7 + array_8 :\\n', array_7 + array_8)   # 会自动调整大小,将维度较低的进行直接赋值扩大"
   ]
  },
  {
   "cell_type": "code",
   "execution_count": 58,
   "id": "eb7de719-cf83-4ac1-8752-ac2aa5dcecf0",
   "metadata": {},
   "outputs": [
    {
     "name": "stdout",
     "output_type": "stream",
     "text": [
      "tarray_7:\n",
      " [[[ 0.          3.33333333  6.66666667 10.        ]\n",
      "  [13.33333333 16.66666667 20.         23.33333333]]\n",
      "\n",
      " [[26.66666667 30.         33.33333333 36.66666667]\n",
      "  [40.         43.33333333 46.66666667 50.        ]]]\n",
      "tarray_8:\n",
      " [ 1.  4.  7. 10.]\n",
      "tarray_8 + tarray_7:\n",
      " [[[ 1.          7.33333333 13.66666667 20.        ]\n",
      "  [14.33333333 20.66666667 27.         33.33333333]]\n",
      "\n",
      " [[27.66666667 34.         40.33333333 46.66666667]\n",
      "  [41.         47.33333333 53.66666667 60.        ]]]\n"
     ]
    }
   ],
   "source": [
    "tarray_7 = np.linspace(0, 50, 16)\n",
    "tarray_7.shape = (2, 2, 4)\n",
    "print('tarray_7:\\n', tarray_7)\n",
    "tarray_8 = np.linspace(1, 10, 4)\n",
    "# tarray_8.shape = (4)\n",
    "print('tarray_8:\\n', tarray_8)\n",
    "print('tarray_8 + tarray_7:\\n',tarray_8 + tarray_7)"
   ]
  },
  {
   "cell_type": "markdown",
   "id": "12a846ec-7a77-414a-a0b5-fb95b8fe5fa3",
   "metadata": {},
   "source": [
    "### 数组的切片和转置"
   ]
  },
  {
   "cell_type": "code",
   "execution_count": 31,
   "id": "373984f9-a7b8-4491-99f9-bb5a38ac24cf",
   "metadata": {},
   "outputs": [
    {
     "name": "stdout",
     "output_type": "stream",
     "text": [
      "array_9[0, :2] :\n",
      " [1 2]\n",
      "array_9[:, 1:] :\n",
      " [[2 3]\n",
      " [5 6]]\n"
     ]
    }
   ],
   "source": [
    "array_9 = np.array([[1, 2, 3], [4, 5, 6]])\n",
    "print('array_9[0, :2] :\\n', array_9[0, :2])  # 第0行中前两个元素\n",
    "print('array_9[:, 1:] :\\n', array_9[:, 1:])  # 第1列到最后一列的所有元素"
   ]
  },
  {
   "cell_type": "markdown",
   "id": "cf3006dc-5be1-473d-bb64-29d9011e0abf",
   "metadata": {},
   "source": [
    "### 数组的排序和搜索"
   ]
  },
  {
   "cell_type": "code",
   "execution_count": 33,
   "id": "36a3c2f2-f4f7-4634-9843-f43cc2f558da",
   "metadata": {},
   "outputs": [
    {
     "name": "stdout",
     "output_type": "stream",
     "text": [
      "排序后的数组： [1 1 3 4 5 9]\n",
      "排序后的索引位置为： [1 3 0 2 4 5]\n",
      "数组中最小值的索引为：  1\n",
      "数组中最大值的索引为： 9\n"
     ]
    }
   ],
   "source": [
    "array_10 = np.array([3, 1, 4, 1, 5, 9])\n",
    "print('排序后的数组：', np.sort(array_10))  # 进行正序排序\n",
    "print('排序后的索引位置为：', np.argsort(array_10))   # 排序后的索引位置\n",
    "print('数组中最小值的索引对应的值为： ', array_10[np.argmin(array_10)])  # 搜索数组中的最小值\n",
    "print('数组中最大值的索引对应的值为：', array_10[np.argmax(array_10)])  # 搜索数组中的最大值"
   ]
  },
  {
   "cell_type": "markdown",
   "id": "ff3e789e-ef33-4b6e-b1cc-c00fceb91528",
   "metadata": {},
   "source": [
    "### 数组的统计函数"
   ]
  },
  {
   "cell_type": "code",
   "execution_count": 35,
   "id": "4547c4a5-120e-4768-931a-08d5a3c0b922",
   "metadata": {},
   "outputs": [
    {
     "name": "stdout",
     "output_type": "stream",
     "text": [
      "均值： 3.0\n",
      "方差： 1.4142135623730951\n",
      "标准差： 2.0\n",
      "最大值： 5\n",
      "最小值： 1\n"
     ]
    }
   ],
   "source": [
    "array_11 = np.array([1, 2, 3, 4, 5])\n",
    "print('均值：', np.mean(array_11))   # 数组中的均值\n",
    "print('方差：', np.std(array_11))   # 数组中的方差\n",
    "print('标准差：', np.var(array_11))   # 数组中的标准差\n",
    "print('最大值：', np.max(array_11))   # 数组中的最大值\n",
    "print('最小值：', np.min(array_11))   # 数组中的最小值"
   ]
  },
  {
   "cell_type": "markdown",
   "id": "6a515e34-7e30-4b41-abe5-f6f9495fb929",
   "metadata": {},
   "source": [
    "## 四种乘法对比解析"
   ]
  },
  {
   "cell_type": "markdown",
   "id": "7cb6db86-0841-4685-beab-e55eaa5574ae",
   "metadata": {},
   "source": [
    "**对于数组a和b有以下四种乘法：**\n",
    "1. `a * b`: 数组中的对应元素相乘。\n",
    "2. `np.multiply(a, b)`: 等价于`a * b`。\n",
    "3. `a @ b`: 矩阵的标准乘法。\n",
    "4. `np.dot(a, b)`:等价于`a @ b`。"
   ]
  },
  {
   "cell_type": "code",
   "execution_count": 37,
   "id": "7312e342-4f28-4d4e-8c06-bd4f220a19a3",
   "metadata": {},
   "outputs": [
    {
     "name": "stdout",
     "output_type": "stream",
     "text": [
      "array_12 @ array_13： \n",
      " [[19 22]\n",
      " [43 50]]\n",
      "np.dot(array_12, array_13)：\n",
      " [[19 22]\n",
      " [43 50]]\n",
      "array_12 * array_13：\n",
      " [[ 5 12]\n",
      " [21 32]]\n",
      "np.multiply(array_12, array_13)：\n",
      " [[ 5 12]\n",
      " [21 32]]\n"
     ]
    }
   ],
   "source": [
    "array_12 = np.array([[1, 2], [3, 4]])\n",
    "array_13 = np.array([[5, 6], [7, 8]])\n",
    "print('array_12 @ array_13： \\n', array_12 @ array_13)\n",
    "print('np.dot(array_12, array_13)：\\n', np.dot(array_12, array_13))\n",
    "print('array_12 * array_13：\\n', array_12 * array_13)\n",
    "print('np.multiply(array_12, array_13)：\\n', np.multiply(array_12, array_13))"
   ]
  },
  {
   "cell_type": "markdown",
   "id": "4e858293-28e4-4ba7-bdcd-d4b6838bf382",
   "metadata": {},
   "source": [
    "### Multiply的高级用法"
   ]
  },
  {
   "cell_type": "code",
   "execution_count": 52,
   "id": "99f3a3d5-894c-492d-a80a-b7fdfc4195c6",
   "metadata": {},
   "outputs": [
    {
     "name": "stdout",
     "output_type": "stream",
     "text": [
      "array_14累乘： 120\n",
      "array_15累乘： [ 4 10 18]\n",
      "array_14对应相乘： [1 4 9 4 5]\n",
      "array_14.T广播相乘：\n",
      " [ 3  6  9 12 15]\n",
      "array_15广播相乘：\n",
      " [[ 1  4  3]\n",
      " [ 4 10  6]]\n",
      "array_15.T广播相乘：\n",
      " [[ 1  8]\n",
      " [ 2 10]\n",
      " [ 3 12]]\n"
     ]
    }
   ],
   "source": [
    "array_14 = np.array([1, 2, 3, 4, 5])\n",
    "array_15 = np.array([[1, 2, 3], [4, 5, 6]])\n",
    "\n",
    "print('array_14累乘：', np.multiply.reduce(array_14))  # 对数组进行累乘\n",
    "print('array_15累乘：', np.multiply.reduce(array_15))  # 对数组中的最后一个维度进行累成\n",
    "print('array_14对应相乘：', np.multiply(array_14, np.array([1, 2, 3, 1, 1])))  # 两个数组中对应的数进行相乘\n",
    "print('array_14.T广播相乘：\\n', np.multiply(array_14.T, np.array([3]))) # 将数组进行转置，然后进行广播相乘\n",
    "print('array_15广播相乘：\\n', np.multiply(array_15, np.array([1, 2, 1])))  # 对数组进行广播相乘\n",
    "print('array_15.T广播相乘：\\n', np.multiply(array_15.T, np.array([1, 2])))  # 对数组转置后进行广播相乘"
   ]
  },
  {
   "cell_type": "markdown",
   "id": "2ddcda97-ef67-40c0-84a8-c100108015a1",
   "metadata": {},
   "source": [
    "### Sum的高阶用法"
   ]
  },
  {
   "cell_type": "code",
   "execution_count": 55,
   "id": "180bc263-6286-43c9-a24e-43cf91448166",
   "metadata": {},
   "outputs": [
    {
     "name": "stdout",
     "output_type": "stream",
     "text": [
      "array_16求和： 15\n",
      "array_17求和： 45\n",
      "array_16对第一维度求和： 15\n",
      "array_17第一维度求和： [12 15 18]\n",
      "array_17第二维度求和： [ 6 15 24]\n"
     ]
    }
   ],
   "source": [
    "array_16 = np.array([1, 2, 3, 4, 5])\n",
    "array_17 = np.array([[1, 2, 3], [4, 5, 6], [7, 8, 9]])\n",
    "print('array_16求和：', np.sum(array_16))\n",
    "print('array_17求和：', np.sum(array_17))\n",
    "print('array_16对第一维度求和：', np.sum(array_16, axis=0))\n",
    "print('array_17第一维度求和：', np.sum(array_17, axis=0))\n",
    "print('array_17第二维度求和：', np.sum(array_17, axis=1))"
   ]
  },
  {
   "cell_type": "markdown",
   "id": "22abe8e4-753e-4914-afeb-8f8f3276a02b",
   "metadata": {},
   "source": [
    "## 数组的迭代"
   ]
  },
  {
   "cell_type": "code",
   "execution_count": 52,
   "id": "2333635a-e927-447c-a7de-ae6648cf7aa1",
   "metadata": {},
   "outputs": [
    {
     "name": "stdout",
     "output_type": "stream",
     "text": [
      "array_17: [[0 1 2 3 4]\n",
      " [5 6 7 8 9]]\n",
      "0 1 2 3 4 5 6 7 8 9 \n",
      "0 1 2 3 4 5 6 7 8 9 \n",
      "0 5 1 6 2 7 3 8 4 9 "
     ]
    }
   ],
   "source": [
    "array_17 = np.arange(10).reshape(2, 5)\n",
    "print('array_17:', array_17)\n",
    "for i in np.nditer(array_17):\n",
    "    print(i, end=' ')\n",
    "print()\n",
    "for i in np.nditer(array_17, order = 'C'):  # 按行进行遍历\n",
    "    print(i, end=' ')\n",
    "print()\n",
    "for i in np.nditer(array_17, order = 'F'):  # 按列进行遍历\n",
    "    print(i, end=' ')"
   ]
  },
  {
   "cell_type": "markdown",
   "id": "3ce8ef5c-1275-402f-99bf-127cdf86e79f",
   "metadata": {},
   "source": [
    "### 广播迭代"
   ]
  },
  {
   "cell_type": "code",
   "execution_count": 76,
   "id": "6ef05941-adee-42e3-ad1d-a9070ccdd3cf",
   "metadata": {},
   "outputs": [
    {
     "name": "stdout",
     "output_type": "stream",
     "text": [
      "array_18: [[1 2 3 4]\n",
      " [5 6 7 8]]\n",
      "array_19: [ 1.  4.  7. 10.]\n",
      "1 : 1.0\t2 : 4.0\t3 : 7.0\t4 : 10.0\t5 : 1.0\t6 : 4.0\t7 : 7.0\t8 : 10.0\t"
     ]
    }
   ],
   "source": [
    "array_18 = np.arange(1, 9).reshape(2, 4)\n",
    "array_19 = np.linspace(1, 10, 4).reshape(4)\n",
    "print('array_18:', array_18)\n",
    "print('array_19:', array_19)\n",
    "for i, j in np.nditer([array_18, array_19]):\n",
    "    print(i,':',j, end='\\t')"
   ]
  },
  {
   "cell_type": "markdown",
   "id": "5f4d2300-aba5-46eb-9240-c856221cd885",
   "metadata": {},
   "source": [
    "## 插入轴"
   ]
  },
  {
   "cell_type": "code",
   "execution_count": 80,
   "id": "385680b6-e522-4557-840e-6a7c42c903bf",
   "metadata": {},
   "outputs": [
    {
     "name": "stdout",
     "output_type": "stream",
     "text": [
      "array_20:\n",
      " [[1 2]\n",
      " [3 4]]\n",
      "array_20.shape: (2, 2)\n",
      "array_21:\n",
      " [[[1 2]\n",
      "  [3 4]]]\n",
      "array_21.shape: (1, 2, 2)\n"
     ]
    }
   ],
   "source": [
    "array_20 = np.array([[1, 2], [3, 4]])\n",
    "print('array_20:\\n', array_20)\n",
    "print('array_20.shape:',array_20.shape)\n",
    "array_21 = np.expand_dims(array_20, 0)\n",
    "print('array_21:\\n', array_21)\n",
    "print('array_21.shape:',array_21.shape)"
   ]
  },
  {
   "cell_type": "markdown",
   "id": "e2c263b6-73a8-42d6-abf2-0dd26d41d4b6",
   "metadata": {},
   "source": [
    "## 删除轴"
   ]
  },
  {
   "cell_type": "code",
   "execution_count": 84,
   "id": "ca480165-767d-4c93-804a-f18f9e6783b1",
   "metadata": {},
   "outputs": [
    {
     "name": "stdout",
     "output_type": "stream",
     "text": [
      "(1, 4, 4)\n",
      "(4, 4)\n"
     ]
    }
   ],
   "source": [
    "array_22 = np.arange(16).reshape(1, 4, 4)\n",
    "print(array_22.shape)\n",
    "array_23 = array_22.squeeze()\n",
    "print(array_23.shape)"
   ]
  },
  {
   "cell_type": "markdown",
   "id": "2e1bd3af-e9f9-4911-9375-b7b8d063cc06",
   "metadata": {},
   "source": [
    "## 连接数组"
   ]
  },
  {
   "cell_type": "code",
   "execution_count": 88,
   "id": "094ea118-014d-45f5-baed-bbea013bbae4",
   "metadata": {
    "scrolled": true
   },
   "outputs": [
    {
     "name": "stdout",
     "output_type": "stream",
     "text": [
      "array_24:\n",
      " [[ 0  1  2]\n",
      " [ 3  4  5]\n",
      " [ 6  7  8]\n",
      " [ 9 10 11]]\n",
      "array_25:\n",
      " [[ 8  9 10]\n",
      " [11 12 13]\n",
      " [14 15 16]\n",
      " [17 18 19]]\n",
      "array_concatenate:\n",
      " [[ 0  1  2  8  9 10]\n",
      " [ 3  4  5 11 12 13]\n",
      " [ 6  7  8 14 15 16]\n",
      " [ 9 10 11 17 18 19]]\n"
     ]
    }
   ],
   "source": [
    "array_24 = np.arange(12).reshape(4, 3)\n",
    "array_25 = np.arange(8, 20).reshape(4, 3)\n",
    "print('array_24:\\n', array_24)\n",
    "print('array_25:\\n', array_25)\n",
    "array_concatenate = np.concatenate((array_24, array_25), axis = 1)  # 沿着轴1进行连接\n",
    "print('array_concatenate:\\n', array_concatenate)"
   ]
  },
  {
   "cell_type": "markdown",
   "id": "1f014c21-2063-4f0a-be50-8df17f52132f",
   "metadata": {},
   "source": [
    "## 数组的切分"
   ]
  },
  {
   "cell_type": "code",
   "execution_count": 118,
   "id": "2aa5c72a-0f54-4e92-8205-0c5c4ebdca90",
   "metadata": {},
   "outputs": [
    {
     "name": "stdout",
     "output_type": "stream",
     "text": [
      "array_26:\n",
      " [[ 0  1  2  3]\n",
      " [ 4  5  6  7]\n",
      " [ 8  9 10 11]]\n",
      "array_sp:\n",
      " [array([[0, 1, 2, 3]]), array([[4, 5, 6, 7]]), array([[ 8,  9, 10, 11]])]\n"
     ]
    }
   ],
   "source": [
    "array_26 = np.arange(12).reshape(3, 4)\n",
    "print('array_26:\\n', array_26)\n",
    "array_sp = np.split(array_26, [1, 2])\n",
    "print('array_sp:\\n', array_sp)"
   ]
  },
  {
   "cell_type": "markdown",
   "id": "ec36be33-8fb4-4f5b-914e-ed04a4593b1e",
   "metadata": {},
   "source": [
    "## 添加与删除元素"
   ]
  },
  {
   "cell_type": "code",
   "execution_count": 147,
   "id": "c000e572-7942-4850-ab15-eb2c77dd2e10",
   "metadata": {},
   "outputs": [
    {
     "name": "stdout",
     "output_type": "stream",
     "text": [
      "array_27:\n",
      " [[ 0  1  2  3]\n",
      " [ 4  5  6  7]\n",
      " [ 8  9 10 11]]\n",
      "array_28:\n",
      " [[ 0  1  2  3]\n",
      " [ 4  5  6  7]\n",
      " [ 8  9 10 11]\n",
      " [ 0  1  2  3]]\n",
      "array_ap:\n",
      " [ 0  1  2  3  4  5  6  7  8  9 10 11  1  1  1]\n",
      "array_ap0:\n",
      " [[ 0  1  2  3]\n",
      " [ 4  5  6  7]\n",
      " [ 8  9 10 11]\n",
      " [ 1  1  1  1]]\n",
      "array_in:\n",
      " [[ 0  1  2  3]\n",
      " [ 1  1  1  1]\n",
      " [ 4  5  6  7]\n",
      " [ 8  9 10 11]]\n",
      "array_del:\n",
      " [[ 0  1  2  3]\n",
      " [ 8  9 10 11]]\n",
      "array_un:\n",
      " [ 0  1  2  3  4  5  6  7  8  9 10 11]\n",
      "array_un:\n",
      " (array([ 0,  1,  2,  3,  4,  5,  6,  7,  8,  9, 10, 11]), array([ 0,  1,  2,  3,  4,  5,  6,  7,  8,  9, 10, 11], dtype=int64))\n"
     ]
    }
   ],
   "source": [
    "array_27 = np.arange(12).reshape(3, 4)\n",
    "print('array_27:\\n', array_27)\n",
    "# 改变形状：\n",
    "array_28 = np.resize(array_27, (4, 4))   # 重复了一行元素\n",
    "print('array_28:\\n', array_28)\n",
    "\n",
    "# 添加元素\n",
    "array_ap = np.append(array_27, [1, 1, 1])\n",
    "print('array_ap:\\n', array_ap)\n",
    "\n",
    "array_ap0 = np.append(array_27, [[1, 1, 1, 1]], axis = 0)\n",
    "print('array_ap0:\\n', array_ap0)\n",
    "\n",
    "# 插入元素\n",
    "array_in = np.insert(array_27, 1, [[1, 1, 1, 1]], axis = 0)\n",
    "print('array_in:\\n', array_in)\n",
    "\n",
    "# 删除元素\n",
    "array_del = np.delete(array_27, 1, axis = 0)  # 删除第二行\n",
    "print('array_del:\\n', array_del)\n",
    "\n",
    "# 去重\n",
    "array_un = np.unique(array_27)\n",
    "print('array_un:\\n', array_un)\n",
    "\n",
    "array_un = np.unique(array_27, return_index = True)  # 去重并返回在原数组中的下标\n",
    "print('array_un:\\n', array_un)"
   ]
  },
  {
   "cell_type": "code",
   "execution_count": null,
   "id": "d030014a-841e-43e7-aae0-b44c8e52ab31",
   "metadata": {},
   "outputs": [],
   "source": [
    "    "
   ]
  }
 ],
 "metadata": {
  "kernelspec": {
   "display_name": "MechineLearn",
   "language": "python",
   "name": "mechinelearn"
  },
  "language_info": {
   "codemirror_mode": {
    "name": "ipython",
    "version": 3
   },
   "file_extension": ".py",
   "mimetype": "text/x-python",
   "name": "python",
   "nbconvert_exporter": "python",
   "pygments_lexer": "ipython3",
   "version": "3.11.8"
  }
 },
 "nbformat": 4,
 "nbformat_minor": 5
}
